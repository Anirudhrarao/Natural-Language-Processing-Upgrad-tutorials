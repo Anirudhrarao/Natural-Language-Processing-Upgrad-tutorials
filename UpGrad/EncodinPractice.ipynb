{
 "cells": [
  {
   "cell_type": "code",
   "execution_count": 1,
   "id": "01d7e59a",
   "metadata": {},
   "outputs": [],
   "source": [
    "amount = u\"₹50\""
   ]
  },
  {
   "cell_type": "code",
   "execution_count": 2,
   "id": "4666fc73",
   "metadata": {},
   "outputs": [
    {
     "name": "stdout",
     "output_type": "stream",
     "text": [
      "Default string:  ₹50 \n",
      " Type of string <class 'str'> \n",
      "\n"
     ]
    }
   ],
   "source": [
    "print('Default string: ', amount, '\\n', 'Type of string', type(amount), '\\n')"
   ]
  },
  {
   "cell_type": "markdown",
   "id": "ef825386",
   "metadata": {},
   "source": [
    "### encode to UTF-8 byte format"
   ]
  },
  {
   "cell_type": "code",
   "execution_count": 4,
   "id": "acb593d3",
   "metadata": {},
   "outputs": [
    {
     "name": "stdout",
     "output_type": "stream",
     "text": [
      "Encoded to UTF-8:  b'\\xe2\\x82\\xb950' \n",
      " Type of string <class 'bytes'> \n",
      "\n"
     ]
    }
   ],
   "source": [
    "amount_encoded = amount.encode('utf-8')\n",
    "print('Encoded to UTF-8: ', amount_encoded,'\\n', 'Type of string', type(amount_encoded), '\\n')"
   ]
  },
  {
   "cell_type": "markdown",
   "id": "cc6c7916",
   "metadata": {},
   "source": [
    "### decode from UTF-8 byte format"
   ]
  },
  {
   "cell_type": "code",
   "execution_count": 6,
   "id": "b7919088",
   "metadata": {},
   "outputs": [
    {
     "name": "stdout",
     "output_type": "stream",
     "text": [
      "Decode from UTF-8:  ₹50 \n",
      " Type of string <class 'str'> \n",
      "\n"
     ]
    }
   ],
   "source": [
    "amount_decoded = amount_encoded.decode('utf-8')\n",
    "print('Decode from UTF-8: ',amount_decoded, '\\n', 'Type of string', type(amount_decoded), '\\n' )"
   ]
  },
  {
   "cell_type": "code",
   "execution_count": null,
   "id": "f6bf6545",
   "metadata": {},
   "outputs": [],
   "source": []
  }
 ],
 "metadata": {
  "kernelspec": {
   "display_name": "Python 3 (ipykernel)",
   "language": "python",
   "name": "python3"
  },
  "language_info": {
   "codemirror_mode": {
    "name": "ipython",
    "version": 3
   },
   "file_extension": ".py",
   "mimetype": "text/x-python",
   "name": "python",
   "nbconvert_exporter": "python",
   "pygments_lexer": "ipython3",
   "version": "3.11.1"
  }
 },
 "nbformat": 4,
 "nbformat_minor": 5
}
