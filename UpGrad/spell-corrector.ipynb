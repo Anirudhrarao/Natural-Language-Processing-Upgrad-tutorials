{
 "cells": [
  {
   "cell_type": "code",
   "execution_count": 10,
   "metadata": {},
   "outputs": [],
   "source": [
    "import re\n",
    "from collections import Counter"
   ]
  },
  {
   "cell_type": "code",
   "execution_count": 11,
   "metadata": {},
   "outputs": [],
   "source": [
    "# function to tokenise words\n",
    "def words(document):\n",
    "    \"Convert text to lower case and tokenise the document\"\n",
    "    return re.findall(r'\\w+', document.lower())"
   ]
  },
  {
   "cell_type": "code",
   "execution_count": 12,
   "metadata": {},
   "outputs": [],
   "source": [
    "# create a frequency table of all the words of the document\n",
    "all_words = Counter(words(open('big.txt').read()))"
   ]
  },
  {
   "cell_type": "code",
   "execution_count": 27,
   "metadata": {},
   "outputs": [
    {
     "data": {
      "text/plain": [
       "1"
      ]
     },
     "execution_count": 27,
     "metadata": {},
     "output_type": "execute_result"
    }
   ],
   "source": [
    "# check frequency of a random word, say, 'chair'\n",
    "all_words['ok']"
   ]
  },
  {
   "cell_type": "code",
   "execution_count": 14,
   "metadata": {},
   "outputs": [
    {
     "data": {
      "text/plain": [
       "[('the', 79809),\n",
       " ('of', 40024),\n",
       " ('and', 38312),\n",
       " ('to', 28765),\n",
       " ('in', 22023),\n",
       " ('a', 21124),\n",
       " ('that', 12512),\n",
       " ('he', 12401),\n",
       " ('was', 11410),\n",
       " ('it', 10681)]"
      ]
     },
     "execution_count": 14,
     "metadata": {},
     "output_type": "execute_result"
    }
   ],
   "source": [
    "# look at top 10 frequent words\n",
    "all_words.most_common(10)"
   ]
  },
  {
   "cell_type": "code",
   "execution_count": 15,
   "metadata": {},
   "outputs": [],
   "source": [
    "def edits_one(word):\n",
    "    \"Create all edits that are one edit away from `word`.\"\n",
    "    alphabets    = 'abcdefghijklmnopqrstuvwxyz'\n",
    "    splits     = [(word[:i], word[i:])                   for i in range(len(word) + 1)]\n",
    "    deletes    = [left + right[1:]                       for left, right in splits if right]\n",
    "    inserts    = [left + c + right                       for left, right in splits for c in alphabets]\n",
    "    replaces   = [left + c + right[1:]                   for left, right in splits if right for c in alphabets]\n",
    "    transposes = [left + right[1] + right[0] + right[2:] for left, right in splits if len(right)>1]\n",
    "    return set(deletes + inserts + replaces + transposes)"
   ]
  },
  {
   "cell_type": "code",
   "execution_count": 16,
   "metadata": {},
   "outputs": [],
   "source": [
    "def edits_two(word):\n",
    "    \"Create all edits that are two edits away from `word`.\"\n",
    "    return (e2 for e1 in edits_one(word) for e2 in edits_one(e1))"
   ]
  },
  {
   "cell_type": "code",
   "execution_count": 17,
   "metadata": {},
   "outputs": [],
   "source": [
    "def known(words):\n",
    "    \"The subset of `words` that appear in the `all_words`.\"\n",
    "    return set(word for word in words if word in all_words)"
   ]
  },
  {
   "cell_type": "code",
   "execution_count": 18,
   "metadata": {},
   "outputs": [],
   "source": [
    "def possible_corrections(word):\n",
    "    \"Generate possible spelling corrections for word.\"\n",
    "    return (known([word]) or known(edits_one(word)) or known(edits_two(word)) or [word])"
   ]
  },
  {
   "cell_type": "code",
   "execution_count": 19,
   "metadata": {},
   "outputs": [],
   "source": [
    "def prob(word, N=sum(all_words.values())): \n",
    "    \"Probability of `word`: Number of appearances of 'word' / total number of tokens\"\n",
    "    return all_words[word] / N"
   ]
  },
  {
   "cell_type": "code",
   "execution_count": 33,
   "metadata": {},
   "outputs": [
    {
     "name": "stdout",
     "output_type": "stream",
     "text": [
      "442\n",
      "{'monneya', 'ymonney', 'monnei', 'monrney', 'mondney', 'fonney', 'mofney', 'monnyy', 'monbey', 'monhey', 'monnpy', 'molnney', 'moncey', 'monneyr', 'monndey', 'moniney', 'monpney', 'monnmey', 'menney', 'monfney', 'moneney', 'monneby', 'mongey', 'mnoney', 'mocney', 'money', 'monneo', 'mornney', 'monnefy', 'monnecy', 'honney', 'monnay', 'modnney', 'ronney', 'monneyy', 'montney', 'msonney', 'monnzy', 'movnney', 'mbnney', 'moyney', 'monnexy', 'monnoy', 'mfnney', 'mqonney', 'motnney', 'moqnney', 'mynney', 'monneoy', 'rmonney', 'monnejy', 'donney', 'mbonney', 'monnegy', 'monneu', 'monnjy', 'kmonney', 'monnwey', 'monneq', 'monnbey', 'monnep', 'monnef', 'morney', 'nonney', 'mrnney', 'monnaey', 'mopney', 'monngy', 'ponney', 'monneuy', 'mosney', 'mononey', 'mxnney', 'mlnney', 'msnney', 'monnqy', 'moiney', 'monneyu', 'moxney', 'mowney', 'monnmy', 'monneyv', 'monnoey', 'monnedy', 'monnxey', 'monyey', 'mgonney', 'mjnney', 'mocnney', 'mknney', 'monnxy', 'modney', 'monnty', 'monnhey', 'mqnney', 'monneky', 'moeney', 'monzney', 'moneny', 'monaey', 'mdnney', 'monwey', 'mooney', 'emonney', 'monned', 'smonney', 'monneyf', 'monntey', 'monneyi', 'oonney', 'moanney', 'monnezy', 'monnqey', 'wmonney', 'monnpey', 'monjey', 'monneym', 'moknney', 'mogney', 'monfey', 'mondey', 'monneg', 'monnek', 'monneny', 'xmonney', 'konney', 'monnehy', 'mconney', 'mofnney', 'monne', 'lonney', 'tonney', 'mwnney', 'mobnney', 'zonney', 'onney', 'monnez', 'monnwy', 'monneyl', 'monneyd', 'monaney', 'dmonney', 'mohnney', 'lmonney', 'moaney', 'uonney', 'monncy', 'monvey', 'moncney', 'monneyp', 'moynney', 'monnesy', 'mnnney', 'monnby', 'omnney', 'monnepy', 'monneyz', 'sonney', 'monwney', 'monnee', 'monnkey', 'muonney', 'monlney', 'monnet', 'monnej', 'momnney', 'maonney', 'monneay', 'monneyg', 'monmney', 'monneyn', 'mnney', 'monrey', 'yonney', 'moonney', 'monqney', 'mognney', 'monnfey', 'mionney', 'mponney', 'monnley', 'mdonney', 'monhney', 'eonney', 'monbney', 'monnery', 'mobney', 'omonney', 'mzonney', 'monzey', 'monuney', 'mouney', 'cmonney', 'monnvy', 'monnney', 'mozney', 'mohney', 'motney', 'mronney', 'mnonney', 'monqey', 'monnen', 'nmonney', 'gmonney', 'monngey', 'monneyj', 'monnec', 'monsney', 'monneys', 'vonney', 'monnjey', 'fmonney', 'monnev', 'mgnney', 'mhnney', 'monnewy', 'monnny', 'monnex', 'movney', 'monnem', 'bmonney', 'monnsy', 'monnuey', 'zmonney', 'monnye', 'monner', 'monneey', 'monxey', 'mojnney', 'imonney', 'monnvey', 'jmonney', 'monnrey', 'momney', 'mtonney', 'monneqy', 'mfonney', 'monoey', 'monpey', 'mojney', 'monneyk', 'mxonney', 'monnzey', 'aonney', 'monnky', 'monnes', 'bonney', 'mownney', 'mongney', 'moenney', 'hmonney', 'mvnney', 'monyney', 'monneyw', 'wonney', 'mmonney', 'montey', 'monnemy', 'monnely', 'mounney', 'jonney', 'monnea', 'mokney', 'moneey', 'mopnney', 'mcnney', 'mlonney', 'monnel', 'monneyo', 'monncey', 'monnew', 'monvney', 'monneyc', 'monney', 'moxnney', 'moqney', 'mjonney', 'mtnney', 'monndy', 'myonney', 'mhonney', 'monnry', 'monneyq', 'mkonney', 'minney', 'pmonney', 'monneiy', 'monnety', 'monnsey', 'monkey', 'monmey', 'meonney', 'mvonney', 'monnyey', 'mmnney', 'monnuy', 'moznney', 'mpnney', 'monuey', 'umonney', 'monkney', 'conney', 'tmonney', 'mwonney', 'monneyt', 'qmonney', 'monnevy', 'vmonney', 'monnly', 'qonney', 'molney', 'monneh', 'moinney', 'mznney', 'manney', 'monnhy', 'xonney', 'monny', 'monniy', 'munney', 'mosnney', 'monneyb', 'monniey', 'monnfy', 'amonney', 'monneye', 'ionney', 'monneyh', 'monneyx', 'gonney', 'monxney', 'monneb', 'monley', 'moniey', 'monsey', 'monjney'}\n"
     ]
    }
   ],
   "source": [
    "print(len(set(edits_one(\"emfasize\"))))\n",
    "print(edits_one(\"monney\"))"
   ]
  },
  {
   "cell_type": "code",
   "execution_count": 21,
   "metadata": {},
   "outputs": [
    {
     "name": "stdout",
     "output_type": "stream",
     "text": [
      "{'monkey', 'money'}\n"
     ]
    }
   ],
   "source": [
    "print(known(edits_one(\"monney\")))"
   ]
  },
  {
   "cell_type": "code",
   "execution_count": 34,
   "metadata": {},
   "outputs": [
    {
     "name": "stdout",
     "output_type": "stream",
     "text": [
      "90902\n",
      "{'monkey', 'money'}\n"
     ]
    }
   ],
   "source": [
    "# Let's look at words that are two edits away\n",
    "print(len(set(edits_two(\"emfasize\"))))\n",
    "print(known(edits_one(\"monney\")))"
   ]
  },
  {
   "cell_type": "code",
   "execution_count": 35,
   "metadata": {},
   "outputs": [
    {
     "name": "stdout",
     "output_type": "stream",
     "text": [
      "{'emphasize'}\n"
     ]
    }
   ],
   "source": [
    "# Let's look at possible corrections of a word\n",
    "print(possible_corrections(\"emfasize\"))"
   ]
  },
  {
   "cell_type": "code",
   "execution_count": 36,
   "metadata": {},
   "outputs": [
    {
     "name": "stdout",
     "output_type": "stream",
     "text": [
      "0.0\n",
      "5.378344097491451e-06\n"
     ]
    }
   ],
   "source": [
    "# Let's look at probability of a word\n",
    "print(prob(\"emfasize\"))\n",
    "print(prob(\"monkey\"))"
   ]
  },
  {
   "cell_type": "code",
   "execution_count": 25,
   "metadata": {},
   "outputs": [],
   "source": [
    "def spell_check(word):\n",
    "    \"Print the most probable spelling correction for `word` out of all the `possible_corrections`\"\n",
    "    correct_word = max(possible_corrections(word), key=prob)\n",
    "    if correct_word != word:\n",
    "        return \"Did you mean \" + correct_word + \"?\"\n",
    "    else:\n",
    "        return \"Correct spelling.\""
   ]
  },
  {
   "cell_type": "code",
   "execution_count": 32,
   "metadata": {},
   "outputs": [
    {
     "name": "stdout",
     "output_type": "stream",
     "text": [
      "Did you mean spelling?\n"
     ]
    }
   ],
   "source": [
    "# test spell check\n",
    "print(spell_check(\"spellling\"))"
   ]
  },
  {
   "cell_type": "code",
   "execution_count": null,
   "metadata": {},
   "outputs": [],
   "source": []
  }
 ],
 "metadata": {
  "kernelspec": {
   "display_name": "Python 3 (ipykernel)",
   "language": "python",
   "name": "python3"
  },
  "language_info": {
   "codemirror_mode": {
    "name": "ipython",
    "version": 3
   },
   "file_extension": ".py",
   "mimetype": "text/x-python",
   "name": "python",
   "nbconvert_exporter": "python",
   "pygments_lexer": "ipython3",
   "version": "3.11.1"
  }
 },
 "nbformat": 4,
 "nbformat_minor": 2
}
