{
 "cells": [
  {
   "cell_type": "markdown",
   "id": "3cd4c199",
   "metadata": {},
   "source": [
    "### Spam Ham Detection"
   ]
  },
  {
   "cell_type": "code",
   "execution_count": 4,
   "id": "85b417b8",
   "metadata": {},
   "outputs": [],
   "source": [
    "import random\n",
    "import nltk\n",
    "import pandas as pd\n",
    "from nltk.tokenize import word_tokenize\n",
    "from nltk.corpus import stopwords\n",
    "from nltk.stem.porter import PorterStemmer\n",
    "from nltk.stem import WordNetLemmatizer"
   ]
  },
  {
   "cell_type": "markdown",
   "id": "07132b66",
   "metadata": {},
   "source": [
    "#### Reading dataset of spam and ham messages"
   ]
  },
  {
   "cell_type": "code",
   "execution_count": 10,
   "id": "31987516",
   "metadata": {},
   "outputs": [],
   "source": [
    "spam_ham = pd.read_csv(r\"https://cdn.upgrad.com/UpGrad/temp/bab3e784-e601-4911-9000-f1fbc994a62d/SMSSpamCollection.txt\",sep=\"\\t\",names=['label','message'])"
   ]
  },
  {
   "cell_type": "code",
   "execution_count": 11,
   "id": "1204bd55",
   "metadata": {},
   "outputs": [
    {
     "data": {
      "text/html": [
       "<div>\n",
       "<style scoped>\n",
       "    .dataframe tbody tr th:only-of-type {\n",
       "        vertical-align: middle;\n",
       "    }\n",
       "\n",
       "    .dataframe tbody tr th {\n",
       "        vertical-align: top;\n",
       "    }\n",
       "\n",
       "    .dataframe thead th {\n",
       "        text-align: right;\n",
       "    }\n",
       "</style>\n",
       "<table border=\"1\" class=\"dataframe\">\n",
       "  <thead>\n",
       "    <tr style=\"text-align: right;\">\n",
       "      <th></th>\n",
       "      <th>label</th>\n",
       "      <th>message</th>\n",
       "    </tr>\n",
       "  </thead>\n",
       "  <tbody>\n",
       "    <tr>\n",
       "      <th>0</th>\n",
       "      <td>ham</td>\n",
       "      <td>Go until jurong point, crazy.. Available only ...</td>\n",
       "    </tr>\n",
       "    <tr>\n",
       "      <th>1</th>\n",
       "      <td>ham</td>\n",
       "      <td>Ok lar... Joking wif u oni...</td>\n",
       "    </tr>\n",
       "    <tr>\n",
       "      <th>2</th>\n",
       "      <td>spam</td>\n",
       "      <td>Free entry in 2 a wkly comp to win FA Cup fina...</td>\n",
       "    </tr>\n",
       "    <tr>\n",
       "      <th>3</th>\n",
       "      <td>ham</td>\n",
       "      <td>U dun say so early hor... U c already then say...</td>\n",
       "    </tr>\n",
       "    <tr>\n",
       "      <th>4</th>\n",
       "      <td>ham</td>\n",
       "      <td>Nah I don't think he goes to usf, he lives aro...</td>\n",
       "    </tr>\n",
       "  </tbody>\n",
       "</table>\n",
       "</div>"
      ],
      "text/plain": [
       "  label                                            message\n",
       "0   ham  Go until jurong point, crazy.. Available only ...\n",
       "1   ham                      Ok lar... Joking wif u oni...\n",
       "2  spam  Free entry in 2 a wkly comp to win FA Cup fina...\n",
       "3   ham  U dun say so early hor... U c already then say...\n",
       "4   ham  Nah I don't think he goes to usf, he lives aro..."
      ]
     },
     "execution_count": 11,
     "metadata": {},
     "output_type": "execute_result"
    }
   ],
   "source": [
    "spam_ham.head()"
   ]
  },
  {
   "cell_type": "markdown",
   "id": "49c5da82",
   "metadata": {},
   "source": [
    "#### Converting the read dataset into list of tuple and each tuple(row) containing message its label "
   ]
  },
  {
   "cell_type": "code",
   "execution_count": 15,
   "id": "e997e34f",
   "metadata": {},
   "outputs": [],
   "source": [
    "data_set = []\n",
    "for index,row in spam_ham.iterrows():\n",
    "    #appending tuple of message and label in data_set list which is created above.\n",
    "    data_set.append((row['message'],row['label']))"
   ]
  },
  {
   "cell_type": "code",
   "execution_count": 16,
   "id": "8bb1bafe",
   "metadata": {},
   "outputs": [
    {
     "data": {
      "text/plain": [
       "[('Go until jurong point, crazy.. Available only in bugis n great world la e buffet... Cine there got amore wat...',\n",
       "  'ham'),\n",
       " ('Ok lar... Joking wif u oni...', 'ham'),\n",
       " (\"Free entry in 2 a wkly comp to win FA Cup final tkts 21st May 2005. Text FA to 87121 to receive entry question(std txt rate)T&C's apply 08452810075over18's\",\n",
       "  'spam'),\n",
       " ('U dun say so early hor... U c already then say...', 'ham'),\n",
       " (\"Nah I don't think he goes to usf, he lives around here though\", 'ham')]"
      ]
     },
     "execution_count": 16,
     "metadata": {},
     "output_type": "execute_result"
    }
   ],
   "source": [
    "data_set[:5]"
   ]
  },
  {
   "cell_type": "code",
   "execution_count": 17,
   "id": "cf06841d",
   "metadata": {},
   "outputs": [
    {
     "data": {
      "text/plain": [
       "5572"
      ]
     },
     "execution_count": 17,
     "metadata": {},
     "output_type": "execute_result"
    }
   ],
   "source": [
    "# Checking length of data set\n",
    "len(data_set)"
   ]
  },
  {
   "cell_type": "markdown",
   "id": "77d4957f",
   "metadata": {},
   "source": [
    "#### Preprocessing"
   ]
  },
  {
   "cell_type": "code",
   "execution_count": 18,
   "id": "06b8f567",
   "metadata": {},
   "outputs": [],
   "source": [
    "# lets initialize the stemmer and lemmatize class \n",
    "stemmer = PorterStemmer()\n",
    "lemmatizer = WordNetLemmatizer()"
   ]
  },
  {
   "cell_type": "markdown",
   "id": "77d5967b",
   "metadata": {},
   "source": [
    "#### In this step we will convert document into lower case and removing all the stopword"
   ]
  },
  {
   "cell_type": "code",
   "execution_count": 19,
   "id": "1fb30633",
   "metadata": {},
   "outputs": [],
   "source": [
    "def preprocess(document, stem=True):\n",
    "    \n",
    "    # change docs to lower case\n",
    "    document = document.lower()\n",
    "    \n",
    "    # tokenize the message into word\n",
    "    words = word_tokenize(document)\n",
    "    \n",
    "    # remove stop words\n",
    "    words = [word for word in words if word not in stopwords.words('english')]\n",
    "    \n",
    "    if stem:\n",
    "        words = [stemmer.stem(word) for word in words]\n",
    "    else:\n",
    "        words = [lemmatizer.lemmatize(word) for word in words]\n",
    "        \n",
    "    \"\"\"now we tokenize all the sentence now lets join all the words toghether,\n",
    "       so that we can create sentences again without any stopwords.\"\"\"\n",
    "    \n",
    "    document = \" \".join(words)\n",
    "    \n",
    "    return document"
   ]
  },
  {
   "cell_type": "markdown",
   "id": "e13a3602",
   "metadata": {},
   "source": [
    "#### Performing preprocessing all the messages"
   ]
  },
  {
   "cell_type": "code",
   "execution_count": 28,
   "id": "737d69fc",
   "metadata": {},
   "outputs": [],
   "source": [
    "message_set = []\n",
    "for (message, label) in data_set:\n",
    "    word_filtered = [e.lower() for e in preprocess(message,stem=False).split() if len(e) >= 3]\n",
    "    message_set.append((word_filtered,label))"
   ]
  },
  {
   "cell_type": "code",
   "execution_count": 31,
   "id": "06f33f44",
   "metadata": {},
   "outputs": [
    {
     "name": "stdout",
     "output_type": "stream",
     "text": [
      "[(['jurong', 'point', 'crazy', 'available', 'bugis', 'great', 'world', 'buffet', '...', 'cine', 'got', 'amore', 'wat', '...'], 'ham'), (['lar', '...', 'joking', 'wif', 'oni', '...'], 'ham'), (['free', 'entry', 'wkly', 'comp', 'win', 'cup', 'final', 'tkts', '21st', 'may', '2005.', 'text', '87121', 'receive', 'entry', 'question', 'std', 'txt', 'rate', 'apply', '08452810075over18'], 'spam'), (['dun', 'say', 'early', 'hor', '...', 'already', 'say', '...'], 'ham'), (['nah', \"n't\", 'think', 'usf', 'life', 'around', 'though'], 'ham')]\n"
     ]
    }
   ],
   "source": [
    "print(message_set[:5])"
   ]
  },
  {
   "cell_type": "markdown",
   "id": "02e9650a",
   "metadata": {},
   "source": [
    "#### Preparing to create to features"
   ]
  },
  {
   "cell_type": "code",
   "execution_count": null,
   "id": "1f0a227e",
   "metadata": {},
   "outputs": [],
   "source": []
  }
 ],
 "metadata": {
  "kernelspec": {
   "display_name": "Python 3 (ipykernel)",
   "language": "python",
   "name": "python3"
  },
  "language_info": {
   "codemirror_mode": {
    "name": "ipython",
    "version": 3
   },
   "file_extension": ".py",
   "mimetype": "text/x-python",
   "name": "python",
   "nbconvert_exporter": "python",
   "pygments_lexer": "ipython3",
   "version": "3.11.1"
  }
 },
 "nbformat": 4,
 "nbformat_minor": 5
}
